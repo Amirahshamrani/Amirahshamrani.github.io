{
 "cells": [
  {
   "cell_type": "markdown",
   "metadata": {},
   "source": [
    "# Assignment 1"
   ]
  },
  {
   "cell_type": "raw",
   "metadata": {},
   "source": [
    "###### Question 1a\n",
    "Write a function nums_reversed that takes in an integer n and returns a string containing the numbers 1 through n including n in reverse order, separated by spaces. For example:\n",
    "\n",
    ">>> nums_reversed(5)\n",
    "'5 4 3 2 1"
   ]
  },
  {
   "cell_type": "code",
   "execution_count": 8,
   "metadata": {
    "collapsed": false
   },
   "outputs": [
    {
     "name": "stdout",
     "output_type": "stream",
     "text": [
      "'10 9 8 7 6 5 4 3 2 1 \n"
     ]
    }
   ],
   "source": [
    "def nums_reversed(n):\n",
    "    result = \"'\"\n",
    "    while n>0:\n",
    "            result = result + str(n)+\" \"\n",
    "            n = n - 1 \n",
    "    return result\n",
    "print(nums_reversed(10))"
   ]
  },
  {
   "cell_type": "raw",
   "metadata": {},
   "source": [
    "###### Question 1b\n",
    "Write a function string_splosion that takes in a non-empty string like \"Code\" and returns a long string containing every prefix of the input. For example:\n",
    "\n",
    ">>> string_splosion('Code')\n",
    "'CCoCodCode'\n",
    ">>> string_splosion('data!')\n",
    "'ddadatdatadata!'\n",
    ">>> string_splosion('hi')\n",
    "'hhi'"
   ]
  },
  {
   "cell_type": "code",
   "execution_count": 14,
   "metadata": {
    "collapsed": false
   },
   "outputs": [
    {
     "name": "stdout",
     "output_type": "stream",
     "text": [
      "CCoCodCode\n",
      "ddadatdatadata!\n",
      "hhi\n"
     ]
    }
   ],
   "source": [
    "def string_splosion(str):\n",
    " result = ''\n",
    " for i in range(len(str)+1):\n",
    "  result += str[:i]\n",
    " return result\n",
    "\n",
    "print(string_splosion('Code'))\n",
    "print(string_splosion('data!'))\n",
    "print(string_splosion('hi'))"
   ]
  },
  {
   "cell_type": "raw",
   "metadata": {},
   "source": [
    "####### Question 1c\n",
    "Write a function double100 that takes in a list of integers and returns True only if the list has two 100s next to each other.\n",
    "\n",
    ">>> double100([100, 2, 3, 100])\n",
    "False\n",
    ">>> double100([2, 3, 100, 100, 5])\n",
    "True"
   ]
  },
  {
   "cell_type": "code",
   "execution_count": 22,
   "metadata": {
    "collapsed": false
   },
   "outputs": [
    {
     "name": "stdout",
     "output_type": "stream",
     "text": [
      "False\n",
      "True\n"
     ]
    }
   ],
   "source": [
    "def double100(list):\n",
    "    return any(list[i] == list[i + 1]==100 for i in range(len(list) - 1))\n",
    "\n",
    "print(double100([100, 2, 3, 100]))\n",
    "print(double100([2, 3, 100, 100, 5]))"
   ]
  },
  {
   "cell_type": "code",
   "execution_count": 21,
   "metadata": {
    "collapsed": false
   },
   "outputs": [
    {
     "name": "stdout",
     "output_type": "stream",
     "text": [
      "False\n",
      "True\n"
     ]
    }
   ],
   "source": [
    "def double100(list):\n",
    "    return any(list[i] == list[i + 1]==100 for i in range(len(list) - 1))\n",
    "\n",
    "print(double100([100, 2, 3, 100]))\n",
    "print(double100([2, 3, 100, 100, 5]))"
   ]
  },
  {
   "cell_type": "raw",
   "metadata": {},
   "source": [
    "########## Questions 1d\n",
    "Write a function median that takes in a list of numbers and returns the median element of the list. If the list has even length, it returns the mean of the two elements in the middle.\n",
    "\n",
    ">>> median([5, 4, 3, 2, 1])\n",
    "3\n",
    ">>> median([ 40, 30, 10, 20 ])\n",
    "25"
   ]
  },
  {
   "cell_type": "code",
   "execution_count": 39,
   "metadata": {
    "collapsed": false
   },
   "outputs": [
    {
     "name": "stdout",
     "output_type": "stream",
     "text": [
      "3\n",
      "25\n"
     ]
    }
   ],
   "source": [
    "def median(lst):\n",
    "    lst.sort()\n",
    "    n = len(lst)\n",
    "    if n % 2 == 0:\n",
    "        b = lst[len(lst)//2]\n",
    "        c = lst[(len(lst)//2)-1]\n",
    "        d = (b + c) // 2\n",
    "        return d\n",
    "        \n",
    "    else:\n",
    "        return lst[len(lst)//2]\n",
    "        \n",
    "    \n",
    "print(median([5, 4, 3, 2, 1]))\n",
    "print(median([ 40, 30, 10, 20 ]))"
   ]
  },
  {
   "cell_type": "raw",
   "metadata": {},
   "source": [
    "######### Question 2\n",
    "Using the np.linspace function, create an array called xs that contains 100 evenly spaced points between 0 and 2 * np.pi. Then, create an array called ys that contains the value of $ \\sin{x} $ at each of those 100 points.\n",
    "\n",
    "Hint: Use the np.sin function. You should be able to define each variable with one line of code.)"
   ]
  },
  {
   "cell_type": "code",
   "execution_count": 43,
   "metadata": {
    "collapsed": false
   },
   "outputs": [],
   "source": [
    "import numpy as np\n",
    "import matplotlib.pyplot as plt\n",
    "\n",
    "xs = np.linspace(0, 2 * np.pi, 100)\n",
    "ys = np.sin(xs)"
   ]
  },
  {
   "cell_type": "code",
   "execution_count": null,
   "metadata": {
    "collapsed": true
   },
   "outputs": [],
   "source": [
    "y_cos = np.cos(x)"
   ]
  },
  {
   "cell_type": "code",
   "execution_count": null,
   "metadata": {
    "collapsed": true
   },
   "outputs": [],
   "source": []
  },
  {
   "cell_type": "markdown",
   "metadata": {},
   "source": [
    "################ Question 3\n",
    "Define a function called derivative that takes in an array of x-values and their corresponding y-values and computes the slope of the line connecting each point to the next point."
   ]
  },
  {
   "cell_type": "code",
   "execution_count": 49,
   "metadata": {
    "collapsed": false
   },
   "outputs": [
    {
     "name": "stdout",
     "output_type": "stream",
     "text": [
      "[2.0, 2.0]\n"
     ]
    }
   ],
   "source": [
    "def derivative(xval, yval):\n",
    "    slopes = []\n",
    "    for i in range(len(xval)-1):\n",
    "        slopes.append(((yval[i+1] - yval[i]) / (xval[i+1] - xval[i])))\n",
    "    return ((slopes))\n",
    "\n",
    "print(derivative(np.array([0, 1, 2]), np.array([2, 4, 6])))"
   ]
  },
  {
   "cell_type": "markdown",
   "metadata": {},
   "source": [
    "################## Question 4\n",
    "Plot the slopes you computed. Then plot cos on top of your plot, calling plt.plot again in the same cell. Did numerical differentiation work?\n",
    "\n",
    "Note: Since we have only 99 slopes, you'll need to take off the last x-value before plotting to avoid an error."
   ]
  },
  {
   "cell_type": "code",
   "execution_count": 51,
   "metadata": {
    "collapsed": false
   },
   "outputs": [
    {
     "data": {
      "image/png": "[encoded data removed]",
      "text/plain": [
       "<matplotlib.figure.Figure at 0x118ead940>"
      ]
     },
     "metadata": {},
     "output_type": "display_data"
    }
   ],
   "source": [
    "slopes = derivative(xs, ys)\n",
    "plt.plot(xs[:-1], slopes, label=\"Numerical derivative\")\n",
    "plt.plot(xs[:-1], np.cos(xs[:-1]), label=\"True derivative\")\n",
    "plt.show()"
   ]
  },
  {
   "cell_type": "code",
   "execution_count": 62,
   "metadata": {
    "collapsed": false
   },
   "outputs": [
    {
     "data": {
      "image/png": "[encoded data removed]",
      "text/plain": [
       "<matplotlib.figure.Figure at 0x11b17b9e8>"
      ]
     },
     "metadata": {},
     "output_type": "display_data"
    }
   ],
   "source": [
    "plt.subplot(2, 1, 2)\n",
    "plt.plot(xs[:-1], slopes, label=\"Numerical derivative\")\n",
    "plt.legend(['Numerical derivative of (x)'], loc=\"upper center\")\n",
    "plt.subplot(2, 1, 1)\n",
    "plt.plot(xs[:-1], np.cos(xs[:-1]), label=\"True derivative\")\n",
    "plt.legend(['True derivative'],  loc=\"upper center\")\n",
    "plt.show()"
   ]
  },
  {
   "cell_type": "markdown",
   "metadata": {},
   "source": [
    "####"
   ]
  },
  {
   "cell_type": "raw",
   "metadata": {},
   "source": [
    "### Question 5\n",
    "Create a 50x50 array called twice_identity that contains all zeros except on the diagonal, where it contains the value 2.\n",
    "\n",
    "Start by making a 50x50 array of all zeros, then set the values. Use indexing, not a for loop! (Don't use np.eye either, though you might find that function useful later.)"
   ]
  },
  {
   "cell_type": "code",
   "execution_count": 44,
   "metadata": {
    "collapsed": false
   },
   "outputs": [
    {
     "data": {
      "text/plain": [
       "array([[ 2.,  0.,  0., ...,  0.,  0.,  0.],\n",
       "       [ 0.,  2.,  0., ...,  0.,  0.,  0.],\n",
       "       [ 0.,  0.,  2., ...,  0.,  0.,  0.],\n",
       "       ..., \n",
       "       [ 0.,  0.,  0., ...,  2.,  0.,  0.],\n",
       "       [ 0.,  0.,  0., ...,  0.,  2.,  0.],\n",
       "       [ 0.,  0.,  0., ...,  0.,  0.,  2.]])"
      ]
     },
     "execution_count": 44,
     "metadata": {},
     "output_type": "execute_result"
    }
   ],
   "source": [
    "twice_identity = np.zeros((50, 50))\n",
    "row = np.array([range(50)])\n",
    "col = np.array([range(50)])\n",
    "twice_identity[row, col] = 2\n",
    "twice_identity"
   ]
  },
  {
   "cell_type": "markdown",
   "metadata": {},
   "source": [
    "################ Question 7\n",
    "Create a function called read_file_lines that takes in a filename as its argument. This function should return a Python list containing the lines of the file as strings. That is, if 1.txt contains:\n",
    "\n",
    "1 2 3\n",
    "3 4 5\n",
    "7 8 9\n",
    "the return value should be: ['1 2 3\\n', '3 4 5\\n', '7 8 9\\n'].\n",
    "Then, use the read_file_lines function on the file 1.txt, reading the contents into a variable called file1"
   ]
  },
  {
   "cell_type": "code",
   "execution_count": 45,
   "metadata": {
    "collapsed": true
   },
   "outputs": [],
   "source": [
    "with open(\"2.txt\") as f:\n",
    "    content = f.readlines()\n",
    "file1 = [x.strip() for x in content] "
   ]
  },
  {
   "cell_type": "code",
   "execution_count": 46,
   "metadata": {
    "collapsed": false
   },
   "outputs": [
    {
     "data": {
      "text/plain": [
       "['4 2',\n",
       " '0 0 0',\n",
       " '10 10 10',\n",
       " '2 2 2',\n",
       " '3 3 3',\n",
       " '4 4 4',\n",
       " '5 5 5',\n",
       " '6 6 6',\n",
       " '7 7 7']"
      ]
     },
     "execution_count": 46,
     "metadata": {},
     "output_type": "execute_result"
    }
   ],
   "source": [
    "file1"
   ]
  },
  {
   "cell_type": "code",
   "execution_count": null,
   "metadata": {
    "collapsed": true
   },
   "outputs": [],
   "source": []
  }
 ],
 "metadata": {
  "kernelspec": {
   "display_name": "Python 3",
   "language": "python",
   "name": "python3"
  },
  "language_info": {
   "codemirror_mode": {
    "name": "ipython",
    "version": 3
   },
   "file_extension": ".py",
   "mimetype": "text/x-python",
   "name": "python",
   "nbconvert_exporter": "python",
   "pygments_lexer": "ipython3",
   "version": "3.6.0"
  }
 },
 "nbformat": 4,
 "nbformat_minor": 2
}
